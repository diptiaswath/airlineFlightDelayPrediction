version https://git-lfs.github.com/spec/v1
oid sha256:ac0255153e5053be1767fc42d3ac154c69ebf86078ddf4880fb0a63f9a47671e
size 434583507
