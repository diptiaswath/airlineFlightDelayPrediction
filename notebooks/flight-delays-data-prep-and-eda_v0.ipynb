version https://git-lfs.github.com/spec/v1
oid sha256:d5fb13b63f6f0af40a7606ffa24cf938dae6db1c310288f93dd53a2514f07443
size 42544452
