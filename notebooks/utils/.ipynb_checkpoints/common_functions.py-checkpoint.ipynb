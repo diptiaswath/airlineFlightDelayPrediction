{
 "cells": [
  {
   "cell_type": "markdown",
   "id": "ff477618",
   "metadata": {},
   "source": [
    "\n",
    "## Utility Functions used in Notebooks\n"
   ]
  },
  {
   "cell_type": "code",
   "execution_count": null,
   "id": "d633f8e5",
   "metadata": {},
   "outputs": [],
   "source": [
    "def cap_outliers(df_cleaned, column, lower_bound, upper_bound):\n",
    "    \"\"\"\n",
    "    Cap outliers in a specified column of input DataFrame to the given bounds.\n",
    "\n",
    "    Parameters:\n",
    "    - df: pandas DataFrame\n",
    "    - column: str, name of the column to process\n",
    "    - lower_bound: float, lower bound for capping\n",
    "    - upper_bound: float, upper bound for capping\n",
    "\n",
    "    Returns:\n",
    "    - DataFrame with outliers capped\n",
    "    \"\"\"\n",
    "    print(f\"\\nColumn {column} has outliers greater than upper bound ({upper_bound}) or lower than lower bound ({lower_bound}). Capping them now.\")\n",
    "    df_cleaned[column] = df_cleaned[column].clip(lower=lower_bound, upper=upper_bound)\n",
    "    return df_cleaned"
   ]
  },
  {
   "cell_type": "code",
   "execution_count": null,
   "id": "77ee9164",
   "metadata": {},
   "outputs": [],
   "source": [
    "def handle_duplicates(df):\n",
    "    \"\"\"\n",
    "    Identifies, displays, counts, and drops duplicate rows in a DataFrame.\n",
    "\n",
    "    Parameters:\n",
    "    - df: pandas DataFrame\n",
    "\n",
    "    Returns:\n",
    "    - DataFrame with duplicate rows removed\n",
    "    \"\"\"\n",
    "    # Identify duplicate rows\n",
    "    duplicate_rows = df.duplicated()\n",
    "    \n",
    "    # Display duplicate rows\n",
    "    duplicates = df[duplicate_rows]\n",
    "    print(\"\\nActual Duplicate Rows:\")\n",
    "    print(duplicates)\n",
    "    \n",
    "    # Count duplicate rows\n",
    "    duplicate_count = duplicate_rows.sum()\n",
    "    print(\"\\nNumber of Duplicate Rows:\", duplicate_count)\n",
    "    \n",
    "    # Drop duplicate rows\n",
    "    df_cleaned = df.drop_duplicates()\n",
    "    print(\"\\nAfter dropping duplicate rows, the count of duplicate rows now: \", df_cleaned.duplicated().sum())\n",
    "    \n",
    "    return df_cleaned\n"
   ]
  }
 ],
 "metadata": {
  "kernelspec": {
   "display_name": "Python 3 (ipykernel)",
   "language": "python",
   "name": "python3"
  },
  "language_info": {
   "codemirror_mode": {
    "name": "ipython",
    "version": 3
   },
   "file_extension": ".py",
   "mimetype": "text/x-python",
   "name": "python",
   "nbconvert_exporter": "python",
   "pygments_lexer": "ipython3",
   "version": "3.11.8"
  }
 },
 "nbformat": 4,
 "nbformat_minor": 5
}
