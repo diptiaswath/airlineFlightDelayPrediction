{
 "cells": [
  {
   "cell_type": "markdown",
   "id": "bb81fce6",
   "metadata": {},
   "source": [
    "\n",
    "## Utility Functions used in Notebooks\n"
   ]
  },
  {
   "cell_type": "code",
   "execution_count": 7,
   "id": "ee90fd11",
   "metadata": {},
   "outputs": [],
   "source": [
    "from sklearn.metrics import auc, classification_report, confusion_matrix, accuracy_score, recall_score, precision_score, make_scorer, average_precision_score, precision_recall_curve, roc_curve, f1_score, roc_auc_score, ConfusionMatrixDisplay,make_scorer, RocCurveDisplay, PrecisionRecallDisplay\n",
    "\n",
    "import warnings\n",
    "warnings.filterwarnings(\"ignore\")\n",
    "\n",
    "import matplotlib.pyplot as plt\n",
    "import numpy as np\n",
    "import pandas as pd\n",
    "\n",
    "from sklearn.feature_selection import SelectFromModel, SequentialFeatureSelector, RFE\n",
    "from sklearn.pipeline import Pipeline\n",
    "from sklearn.inspection import permutation_importance"
   ]
  },
  {
   "cell_type": "code",
   "execution_count": 8,
   "id": "e2acd31d",
   "metadata": {},
   "outputs": [],
   "source": [
    "####################################################################################################################################################\n",
    "# Generic Function to cap outliers in a specific column of input dataframe to the given lower and upper bounds \n",
    "####################################################################################################################################################\n",
    "def cap_outliers(df_cleaned, column, lower_bound, upper_bound):\n",
    "    \"\"\"\n",
    "    Cap outliers in a specified column of input DataFrame to the given bounds.\n",
    "\n",
    "    Parameters:\n",
    "    - df: pandas DataFrame\n",
    "    - column: str, name of the column to process\n",
    "    - lower_bound: float, lower bound for capping\n",
    "    - upper_bound: float, upper bound for capping\n",
    "\n",
    "    Returns:\n",
    "    - DataFrame with outliers capped\n",
    "    \"\"\"\n",
    "    print(f\"\\nColumn {column} has outliers greater than upper bound ({upper_bound}) or lower than lower bound ({lower_bound}). Capping them now.\")\n",
    "    df_cleaned[column] = df_cleaned[column].clip(lower=lower_bound, upper=upper_bound)\n",
    "    return df_cleaned"
   ]
  },
  {
   "cell_type": "code",
   "execution_count": 9,
   "id": "9f8c1563",
   "metadata": {},
   "outputs": [],
   "source": [
    "####################################################################################################################################################\n",
    "# Generic Function to identify, display and drop duplicate rows in input dataframe\n",
    "###################################################################